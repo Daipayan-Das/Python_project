{
  "nbformat": 4,
  "nbformat_minor": 0,
  "metadata": {
    "colab": {
      "name": "project.ipynb",
      "provenance": [],
      "collapsed_sections": []
    },
    "kernelspec": {
      "name": "python3",
      "display_name": "Python 3"
    },
    "language_info": {
      "name": "python"
    }
  },
  "cells": [
    {
      "cell_type": "code",
      "metadata": {
        "id": "I_aSNnIgMeJs"
      },
      "source": [
        "#Inventory Management System \n",
        "#Fashion Store Management System"
      ],
      "execution_count": null,
      "outputs": []
    },
    {
      "cell_type": "code",
      "metadata": {
        "id": "ICGyK1TuNBkx"
      },
      "source": [
        "record ={111: {'Name': 'T-Shirt','Size': 'L','Colour': 'Brown'},\n",
        "         112: {'Name': 'Sweat-Shirt','Size': 'XL','Colour': 'Blue'},\n",
        "         113: {'Name': 'Chinos','Size': 'M','Colour': 'Black'},\n",
        "         114: {'Name': 'Shirt','Size': 'XL','Colour': 'Pink'},\n",
        "         115: {'Name': 'Kurta','Size': 'L','Colour': 'Yellow'}, \n",
        "         }"
      ],
      "execution_count": 17,
      "outputs": []
    },
    {
      "cell_type": "code",
      "metadata": {
        "id": "8TULQ8SGrIor"
      },
      "source": [
        "import json"
      ],
      "execution_count": 9,
      "outputs": []
    },
    {
      "cell_type": "code",
      "metadata": {
        "colab": {
          "base_uri": "https://localhost:8080/"
        },
        "id": "aHBTN45xoEzN",
        "outputId": "58bdc053-04ec-4631-f829-5f968ba686ab"
      },
      "source": [
        "record[112]"
      ],
      "execution_count": 7,
      "outputs": [
        {
          "output_type": "execute_result",
          "data": {
            "text/plain": [
              "{'Colour': 'Blue', 'Name': 'Sweat-Shirt', 'Size': 'XL'}"
            ]
          },
          "metadata": {},
          "execution_count": 7
        }
      ]
    },
    {
      "cell_type": "code",
      "metadata": {
        "id": "c9r_cANDrzch"
      },
      "source": [
        "js=json.dumps(record)"
      ],
      "execution_count": 10,
      "outputs": []
    },
    {
      "cell_type": "code",
      "metadata": {
        "colab": {
          "base_uri": "https://localhost:8080/",
          "height": 52
        },
        "id": "ISrvtczur9zH",
        "outputId": "8b297ce0-2b22-4457-b1bd-ba55cba90eb2"
      },
      "source": [
        "js"
      ],
      "execution_count": 11,
      "outputs": [
        {
          "output_type": "execute_result",
          "data": {
            "application/vnd.google.colaboratory.intrinsic+json": {
              "type": "string"
            },
            "text/plain": [
              "'{\"111\": {\"Name\": \"T-Shirt\", \"Size\": \"L\", \"Colour\": \"Brown\"}, \"112\": {\"Name\": \"Sweat-Shirt\", \"Size\": \"XL\", \"Colour\": \"Blue\"}, \"113\": {\"Name\": \"Chinos\", \"Size\": \"M\", \"Colour\": \"Black\"}, \"114\": {\"Name\": \"Shirt\", \"Size\": \"XL\", \"Colour\": \"Pink\"}, \"115\": {\"Name\": \"Kurta\", \"Size\": \"L\", \"Colour\": \"Yellow\"}}'"
            ]
          },
          "metadata": {},
          "execution_count": 11
        }
      ]
    },
    {
      "cell_type": "code",
      "metadata": {
        "id": "z4hZAKTVsPX4"
      },
      "source": [
        "fd=open('record.json','w')\n",
        "fd.write(js)\n",
        "fd.close()"
      ],
      "execution_count": 12,
      "outputs": []
    },
    {
      "cell_type": "code",
      "metadata": {
        "id": "RP7HZBfMtGdH"
      },
      "source": [
        "fd=open('record.json','r')\n",
        "txt=fd.read()\n",
        "fd.close()"
      ],
      "execution_count": 13,
      "outputs": []
    },
    {
      "cell_type": "code",
      "metadata": {
        "id": "x4fEGH0ztVpY"
      },
      "source": [
        "record=json.loads(txt)"
      ],
      "execution_count": 14,
      "outputs": []
    },
    {
      "cell_type": "code",
      "metadata": {
        "colab": {
          "base_uri": "https://localhost:8080/",
          "height": 69
        },
        "id": "M-22DfoDtsv7",
        "outputId": "f9d43bf9-ac4a-49c0-f7dc-a70c4daf0098"
      },
      "source": [
        "txt"
      ],
      "execution_count": 15,
      "outputs": [
        {
          "output_type": "execute_result",
          "data": {
            "application/vnd.google.colaboratory.intrinsic+json": {
              "type": "string"
            },
            "text/plain": [
              "'{\"111\": {\"Name\": \"T-Shirt\", \"Size\": \"L\", \"Colour\": \"Brown\"}, \"112\": {\"Name\": \"Sweat-Shirt\", \"Size\": \"XL\", \"Colour\": \"Blue\"}, \"113\": {\"Name\": \"Chinos\", \"Size\": \"M\", \"Colour\": \"Black\"}, \"114\": {\"Name\": \"Shirt\", \"Size\": \"XL\", \"Colour\": \"Pink\"}, \"115\": {\"Name\": \"Kurta\", \"Size\": \"L\", \"Colour\": \"Yellow\"}}'"
            ]
          },
          "metadata": {},
          "execution_count": 15
        }
      ]
    },
    {
      "cell_type": "code",
      "metadata": {
        "colab": {
          "base_uri": "https://localhost:8080/",
          "height": 35
        },
        "id": "8LWsb8pdup1f",
        "outputId": "9cfe2b4c-fa4c-498e-c33f-88370d23e31c"
      },
      "source": [
        "record[112]['Colour']"
      ],
      "execution_count": 18,
      "outputs": [
        {
          "output_type": "execute_result",
          "data": {
            "application/vnd.google.colaboratory.intrinsic+json": {
              "type": "string"
            },
            "text/plain": [
              "'Blue'"
            ]
          },
          "metadata": {},
          "execution_count": 18
        }
      ]
    }
  ]
}